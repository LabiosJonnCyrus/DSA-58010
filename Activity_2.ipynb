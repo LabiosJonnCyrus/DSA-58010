{
  "nbformat": 4,
  "nbformat_minor": 0,
  "metadata": {
    "colab": {
      "provenance": [],
      "authorship_tag": "ABX9TyMzkoIMo+QhaSiVSGU7JQot",
      "include_colab_link": true
    },
    "kernelspec": {
      "name": "python3",
      "display_name": "Python 3"
    },
    "language_info": {
      "name": "python"
    }
  },
  "cells": [
    {
      "cell_type": "markdown",
      "metadata": {
        "id": "view-in-github",
        "colab_type": "text"
      },
      "source": [
        "<a href=\"https://colab.research.google.com/github/jayslabios/DSA-58010/blob/main/Activity_2.ipynb\" target=\"_parent\"><img src=\"https://colab.research.google.com/assets/colab-badge.svg\" alt=\"Open In Colab\"/></a>"
      ]
    },
    {
      "cell_type": "markdown",
      "source": [
        "Activity 2"
      ],
      "metadata": {
        "id": "j2ITFqaILEyM"
      }
    },
    {
      "cell_type": "code",
      "source": [
        "class Node:\n",
        "  def __init__(self, data=None):\n",
        "    self.data = data\n",
        "    self.next = None\n",
        "\n",
        "class singly_linked_list:\n",
        "  def __init__(self):\n",
        "    self.head = None\n",
        "    self.tail = None\n",
        "    self.count = 0\n",
        "  def iterate_item(self):\n",
        "        current_item = self.head\n",
        "        while current_item:\n",
        "            val = current_item.data\n",
        "            current_item = current_item.next\n",
        "            yield val\n",
        "  def append_item(self, data):\n",
        "        node = Node(data)\n",
        "        if self.tail:\n",
        "            self.tail.next = node\n",
        "            self.tail = node\n",
        "        else:\n",
        "            self.head = node\n",
        "            self.tail = node\n",
        "        self.count += 1\n",
        "items = singly_linked_list()\n",
        "items.append_item('2')\n",
        "items.append_item('3')\n",
        "items.append_item('5')\n",
        "items.append_item('7')\n",
        "items.append_item('11')\n",
        "items.append_item('13')\n",
        "items.append_item('17')\n",
        "items.append_item('19')\n",
        "for val in items.iterate_item():\n",
        " print(val)\n",
        "print(\"head of prime numbers: \",items.head.data)\n",
        "print(\"tail of prime numbers: \",items.tail.data)"
      ],
      "metadata": {
        "colab": {
          "base_uri": "https://localhost:8080/"
        },
        "id": "4c4KxS5lZLMA",
        "outputId": "62d6296b-07ed-464c-ea13-29fa99ee0a09"
      },
      "execution_count": 35,
      "outputs": [
        {
          "output_type": "stream",
          "name": "stdout",
          "text": [
            "2\n",
            "3\n",
            "5\n",
            "7\n",
            "11\n",
            "13\n",
            "17\n",
            "19\n",
            "head of prime numbers:  2\n",
            "tail of prime numbers:  19\n"
          ]
        }
      ]
    }
  ]
}