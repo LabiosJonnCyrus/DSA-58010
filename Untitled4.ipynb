{
  "nbformat": 4,
  "nbformat_minor": 0,
  "metadata": {
    "colab": {
      "name": "Untitled4.ipynb",
      "provenance": [],
      "authorship_tag": "ABX9TyOrgS+h7t++ekg8OcEZbSSF",
      "include_colab_link": true
    },
    "kernelspec": {
      "name": "python3",
      "display_name": "Python 3"
    },
    "language_info": {
      "name": "python"
    }
  },
  "cells": [
    {
      "cell_type": "markdown",
      "metadata": {
        "id": "view-in-github",
        "colab_type": "text"
      },
      "source": [
        "<a href=\"https://colab.research.google.com/github/jayslabios/DSA-58010/blob/main/Untitled4.ipynb\" target=\"_parent\"><img src=\"https://colab.research.google.com/assets/colab-badge.svg\" alt=\"Open In Colab\"/></a>"
      ]
    },
    {
      "cell_type": "code",
      "execution_count": 3,
      "metadata": {
        "id": "Tk9qTPZrI6Kw"
      },
      "outputs": [],
      "source": [
        "class shape:\n",
        "  def square (self):\n",
        "    return \"4 sides are equal\"\n",
        "    def rectangle (self):\n",
        "      return \"2 sides are equal\"\n",
        "\n",
        "class polygon (shape):\n",
        "  def triangle (self):\n",
        "    return \"has edges and vertices\"\n",
        "\n",
        "  object = shape ()\n",
        "\n",
        "  object.square ()\n",
        "  "
      ]
    }
  ]
}