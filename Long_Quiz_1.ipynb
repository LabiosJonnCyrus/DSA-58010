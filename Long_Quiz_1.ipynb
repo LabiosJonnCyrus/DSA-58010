{
  "nbformat": 4,
  "nbformat_minor": 0,
  "metadata": {
    "colab": {
      "provenance": [],
      "authorship_tag": "ABX9TyP8vqduKr+fCiHCVYNPSQ62",
      "include_colab_link": true
    },
    "kernelspec": {
      "name": "python3",
      "display_name": "Python 3"
    },
    "language_info": {
      "name": "python"
    }
  },
  "cells": [
    {
      "cell_type": "markdown",
      "metadata": {
        "id": "view-in-github",
        "colab_type": "text"
      },
      "source": [
        "<a href=\"https://colab.research.google.com/github/jayslabios/DSA-58010/blob/main/Long_Quiz_1.ipynb\" target=\"_parent\"><img src=\"https://colab.research.google.com/assets/colab-badge.svg\" alt=\"Open In Colab\"/></a>"
      ]
    },
    {
      "cell_type": "code",
      "execution_count": 17,
      "metadata": {
        "colab": {
          "base_uri": "https://localhost:8080/"
        },
        "id": "TsNHGN22XMsD",
        "outputId": "520c0bb7-b37c-459b-e67e-5f422409c428"
      },
      "outputs": [
        {
          "output_type": "stream",
          "name": "stdout",
          "text": [
            "My full name is Jonn Cyrus Torres Labios\n",
            "My name in reverse order Labios Torres Cyrus Jonn\n"
          ]
        }
      ],
      "source": [
        "#Choose either Array or Linked-List data structure. Create a python program that appends each character of your full name and displays each character in reverse order \n",
        "#ARRAY\n",
        "\n",
        "name = [\"Jonn\", \"Cyrus\", \"Torres\", \"Labios\"]\n",
        "a = name[0]\n",
        "b = name[1]\n",
        "c = name[2]\n",
        "d = name[3]\n",
        "\n",
        "print(\"My full name is\",a,b,c,d)\n",
        "\n",
        "reversename1 = d\n",
        "reversename2 = c\n",
        "reversename3 = b\n",
        "reversename4 = a\n",
        "\n",
        "print(\"My name in reverse order\", reversename1,reversename2,reversename3,reversename4)"
      ]
    }
  ]
}