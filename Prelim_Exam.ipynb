{
  "nbformat": 4,
  "nbformat_minor": 0,
  "metadata": {
    "colab": {
      "provenance": [],
      "authorship_tag": "ABX9TyOUPmPgH4dlUhymtBe9ly9D",
      "include_colab_link": true
    },
    "kernelspec": {
      "name": "python3",
      "display_name": "Python 3"
    },
    "language_info": {
      "name": "python"
    }
  },
  "cells": [
    {
      "cell_type": "markdown",
      "metadata": {
        "id": "view-in-github",
        "colab_type": "text"
      },
      "source": [
        "<a href=\"https://colab.research.google.com/github/jayslabios/DSA-58010/blob/main/Prelim_Exam.ipynb\" target=\"_parent\"><img src=\"https://colab.research.google.com/assets/colab-badge.svg\" alt=\"Open In Colab\"/></a>"
      ]
    },
    {
      "cell_type": "markdown",
      "source": [
        "Create a python program that creates the array list below and counts the no. of even numbers  A = [1,2,3,4,5,6,7,8,9,10]\n",
        "\n"
      ],
      "metadata": {
        "id": "AcxoxdkXn24M"
      }
    },
    {
      "cell_type": "code",
      "source": [
        "A = [1, 2, 3, 4, 5, 6, 7, 8, 9, 10]\n",
        "\n",
        "even = 0\n",
        "\n",
        "for num in A:\n",
        "  if num % 2 == 0:\n",
        "    even += 1\n",
        "\n",
        "print(A)\n",
        "print('The number of even numbers from the array list is:', even)"
      ],
      "metadata": {
        "colab": {
          "base_uri": "https://localhost:8080/"
        },
        "id": "meCg9aJNn6pM",
        "outputId": "c54a8583-24d7-4daa-817f-4ecaa298170e"
      },
      "execution_count": 1,
      "outputs": [
        {
          "output_type": "stream",
          "name": "stdout",
          "text": [
            "[1, 2, 3, 4, 5, 6, 7, 8, 9, 10]\n",
            "The number of even numbers from the array list is: 5\n"
          ]
        }
      ]
    }
  ]
}