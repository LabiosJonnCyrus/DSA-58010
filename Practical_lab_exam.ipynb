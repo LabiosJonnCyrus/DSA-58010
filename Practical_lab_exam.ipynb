{
  "nbformat": 4,
  "nbformat_minor": 0,
  "metadata": {
    "colab": {
      "provenance": [],
      "authorship_tag": "ABX9TyOYS0/F+9qg/rNMb5T3dMaO",
      "include_colab_link": true
    },
    "kernelspec": {
      "name": "python3",
      "display_name": "Python 3"
    },
    "language_info": {
      "name": "python"
    }
  },
  "cells": [
    {
      "cell_type": "markdown",
      "metadata": {
        "id": "view-in-github",
        "colab_type": "text"
      },
      "source": [
        "<a href=\"https://colab.research.google.com/github/jayslabios/DSA-58010/blob/main/Practical_lab_exam.ipynb\" target=\"_parent\"><img src=\"https://colab.research.google.com/assets/colab-badge.svg\" alt=\"Open In Colab\"/></a>"
      ]
    },
    {
      "cell_type": "code",
      "source": [
        "testscores = [26,49,98,87,62,75]\n",
        "\n",
        "even_numbers = [num for num in testscores if num % 2 == 0]\n",
        "show = sum(even_numbers)\n",
        "\n",
        "print (\"The sum of even numbers in the test scores is: \", show)"
      ],
      "metadata": {
        "colab": {
          "base_uri": "https://localhost:8080/"
        },
        "id": "e-akpw3tRCny",
        "outputId": "ae166f7b-207f-4afb-d0d2-d473e3f9d679"
      },
      "execution_count": 4,
      "outputs": [
        {
          "output_type": "stream",
          "name": "stdout",
          "text": [
            "The sum of even numbers in the test scores is:  186\n"
          ]
        }
      ]
    }
  ]
}