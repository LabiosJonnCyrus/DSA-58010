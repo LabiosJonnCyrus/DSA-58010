{
  "nbformat": 4,
  "nbformat_minor": 0,
  "metadata": {
    "colab": {
      "provenance": [],
      "collapsed_sections": [],
      "authorship_tag": "ABX9TyOxXwNDcIwZrp/nsPIum5x8",
      "include_colab_link": true
    },
    "kernelspec": {
      "name": "python3",
      "display_name": "Python 3"
    },
    "language_info": {
      "name": "python"
    }
  },
  "cells": [
    {
      "cell_type": "markdown",
      "metadata": {
        "id": "view-in-github",
        "colab_type": "text"
      },
      "source": [
        "<a href=\"https://colab.research.google.com/github/jayslabios/DSA-58010/blob/main/Python_Module.ipynb\" target=\"_parent\"><img src=\"https://colab.research.google.com/assets/colab-badge.svg\" alt=\"Open In Colab\"/></a>"
      ]
    },
    {
      "cell_type": "markdown",
      "source": [
        "Example 1\n"
      ],
      "metadata": {
        "id": "a6azz2si5_pG"
      }
    },
    {
      "cell_type": "code",
      "source": [
        " import array\n",
        " array.typecodes \n",
        "\n",
        " A = array.array('i',[1,2,3,4,5,6]) #initialize the elements of array A\n",
        " B = array.array('f',[1,5,2,5,3,5,4,5,5,5,6,5]) #initialize the elements of array B\n",
        " print(A.typecode)\n",
        " print(B.typecode)\n"
      ],
      "metadata": {
        "colab": {
          "base_uri": "https://localhost:8080/"
        },
        "id": "Wvs5SAj06Apb",
        "outputId": "06c0bf65-eb54-4681-cbec-c9f92ec21d6b"
      },
      "execution_count": 3,
      "outputs": [
        {
          "output_type": "stream",
          "name": "stdout",
          "text": [
            "i\n",
            "f\n"
          ]
        }
      ]
    },
    {
      "cell_type": "markdown",
      "source": [
        "Example 2.Creat/Convert the elements of array A to float/decimal number\n"
      ],
      "metadata": {
        "id": "Is3lKPEj9Gnf"
      }
    },
    {
      "cell_type": "code",
      "source": [
        "A = array.array('f',[1,2,3,4,5,6]) #initializing the elements of array A\n",
        "print(A)"
      ],
      "metadata": {
        "colab": {
          "base_uri": "https://localhost:8080/"
        },
        "id": "sSjmKCSw9Qwd",
        "outputId": "4e8bc2fb-f7b6-4e28-d3d4-f17068eba51f"
      },
      "execution_count": 4,
      "outputs": [
        {
          "output_type": "stream",
          "name": "stdout",
          "text": [
            "array('f', [1.0, 2.0, 3.0, 4.0, 5.0, 6.0])\n"
          ]
        }
      ]
    },
    {
      "cell_type": "markdown",
      "source": [
        "Exmaple 3"
      ],
      "metadata": {
        "id": "a07WwSK7AEfj"
      }
    },
    {
      "cell_type": "code",
      "source": [
        "import array \n",
        "a = array.array ('i',[4,5,6,7]) #initializing array a\n",
        "b = array.array ('i',[1,2,3]) #initializing array b\n",
        "a.insert(1,2) #inserting element:2 at index: 1\n",
        "print(a)\n",
        "A.insert(-1,0) #insert element:0 to index: -1\n",
        "print(a)\n",
        "A.insert(6,8) #insert element: 8 to index: 6 which is out of range\n",
        "print(a) #append the last element of the array\n",
        "b[0] = 5\n",
        "b[1] = 4\n",
        "b[2] = 3\n",
        "print(b)\n"
      ],
      "metadata": {
        "colab": {
          "base_uri": "https://localhost:8080/"
        },
        "id": "M6w8Ti_t_UNn",
        "outputId": "845c9c6d-2bce-4aef-b9e5-28118f9de7fa"
      },
      "execution_count": 12,
      "outputs": [
        {
          "output_type": "stream",
          "name": "stdout",
          "text": [
            "array('i', [4, 2, 5, 6, 7])\n",
            "array('i', [4, 2, 5, 6, 7])\n",
            "array('i', [4, 2, 5, 6, 7])\n",
            "array('i', [5, 4, 3])\n"
          ]
        }
      ]
    },
    {
      "cell_type": "markdown",
      "source": [
        "Linked Lists"
      ],
      "metadata": {
        "id": "HdADsLLnNzHJ"
      }
    },
    {
      "cell_type": "code",
      "source": [
        "#function that creates node object\n",
        "\n",
        "class Node:\n",
        "  def __init__(self,data):\n",
        "    self.data = data    # assign data\n",
        "    self.next = None    # initialize as null\n",
        "\n",
        "#function that creates Linked-list object\n",
        "\n",
        "class LinkedList:\n",
        "  def __init(self):\n",
        "    self.head = None   #initialize head as null\n",
        "\n",
        "  def printList(self):\n",
        "    temp = self.head\n",
        "    while(temp!=None):\n",
        "      print(temp.data)\n",
        "      temp = temp.next\n",
        "\n",
        "list = LinkedList()    #empty list\n",
        "list.head = Node(1)\n",
        "second = Node(2)\n",
        "third = Node(3)\n",
        "fourth = Node(4)\n",
        "\n",
        "list.head.next=second\n",
        "second.next = third\n",
        "third.next = fourth\n",
        "\n",
        "list.printList()"
      ],
      "metadata": {
        "colab": {
          "base_uri": "https://localhost:8080/"
        },
        "id": "8eixbFrtNt2d",
        "outputId": "a1e85304-e4d4-4de6-e53a-180eed41ea8a"
      },
      "execution_count": 13,
      "outputs": [
        {
          "output_type": "stream",
          "name": "stdout",
          "text": [
            "1\n",
            "2\n",
            "3\n",
            "4\n"
          ]
        }
      ]
    }
  ]
}