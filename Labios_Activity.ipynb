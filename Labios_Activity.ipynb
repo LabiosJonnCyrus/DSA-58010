{
  "nbformat": 4,
  "nbformat_minor": 0,
  "metadata": {
    "colab": {
      "provenance": [],
      "authorship_tag": "ABX9TyMrBe/o65nyjei8F1geqnhv",
      "include_colab_link": true
    },
    "kernelspec": {
      "name": "python3",
      "display_name": "Python 3"
    },
    "language_info": {
      "name": "python"
    }
  },
  "cells": [
    {
      "cell_type": "markdown",
      "metadata": {
        "id": "view-in-github",
        "colab_type": "text"
      },
      "source": [
        "<a href=\"https://colab.research.google.com/github/jayslabios/DSA-58010/blob/main/Labios_Activity.ipynb\" target=\"_parent\"><img src=\"https://colab.research.google.com/assets/colab-badge.svg\" alt=\"Open In Colab\"/></a>"
      ]
    },
    {
      "cell_type": "code",
      "execution_count": 7,
      "metadata": {
        "colab": {
          "base_uri": "https://localhost:8080/"
        },
        "id": "tDvJHRpaN6-f",
        "outputId": "31f7d5fe-facf-478c-d438-1aa0ea6ae8fe"
      },
      "outputs": [
        {
          "output_type": "stream",
          "name": "stdout",
          "text": [
            "1\n",
            "2\n",
            "3\n",
            "4\n",
            "5\n",
            "6\n",
            "7\n",
            "8\n",
            "9\n",
            "10\n",
            "Access first three items individually\n",
            "1\n",
            "2\n",
            "3\n"
          ]
        }
      ],
      "source": [
        "from array import *\n",
        "array_num = array('i', [1,2,3,4,5,6,7,8,9,10])\n",
        "for i in array_num:\n",
        "    print(i)\n",
        "print(\"Access first three items individually\")\n",
        "print(array_num[0])\n",
        "print(array_num[1])\n",
        "print(array_num[2])\n"
      ]
    },
    {
      "cell_type": "code",
      "source": [
        "from array import *\n",
        "array_num = array('i', [1, 2, 3, 4, 5, 6, 7, 8, 9, 10])\n",
        "print(\"Original array: \"+str(array_num))\n",
        "print(\"Append 11 at the end of the array:\")\n",
        "array_num.append(11)\n",
        "print(\"New array: \"+str(array_num))"
      ],
      "metadata": {
        "colab": {
          "base_uri": "https://localhost:8080/"
        },
        "id": "G1q6oFKFQXKs",
        "outputId": "510fa17f-080f-4c4b-80b7-24cc9e58865e"
      },
      "execution_count": 3,
      "outputs": [
        {
          "output_type": "stream",
          "name": "stdout",
          "text": [
            "Original array: array('i', [1, 2, 3, 4, 5, 6, 7, 8, 9, 10])\n",
            "Append 11 at the end of the array:\n",
            "New array: array('i', [1, 2, 3, 4, 5, 6, 7, 8, 9, 10, 11])\n"
          ]
        }
      ]
    },
    {
      "cell_type": "code",
      "source": [
        "from array import *\n",
        "array_num = array('i', [1, 2, 3, 4, 5, 6, 7, 8, 9, 10])\n",
        "print(\"Original array: \"+str(array_num))\n",
        "print(\"Insert new value 4 before 3:\")\n",
        "array_num.insert(1, 4)\n",
        "print(\"New array: \"+str(array_num))"
      ],
      "metadata": {
        "colab": {
          "base_uri": "https://localhost:8080/"
        },
        "id": "U56WQL5XQthc",
        "outputId": "76b57cdd-e0ba-4deb-8b77-e32ca6ea7120"
      },
      "execution_count": 4,
      "outputs": [
        {
          "output_type": "stream",
          "name": "stdout",
          "text": [
            "Original array: array('i', [1, 2, 3, 4, 5, 6, 7, 8, 9, 10])\n",
            "Insert new value 4 before 3:\n",
            "New array: array('i', [1, 4, 2, 3, 4, 5, 6, 7, 8, 9, 10])\n"
          ]
        }
      ]
    },
    {
      "cell_type": "code",
      "source": [
        "from array import *\n",
        "array_num = array('i', [5, 4, 3, 2, 1])\n",
        "print(\"Original array: \"+str(array_num))\n",
        "array_num.reverse()\n",
        "print(\"Reverse the order of the items:\")\n",
        "print(str(array_num))"
      ],
      "metadata": {
        "colab": {
          "base_uri": "https://localhost:8080/"
        },
        "id": "nz9JSdp3Q955",
        "outputId": "3dae2ad4-568e-4c38-9c06-e5b15a71ec19"
      },
      "execution_count": 5,
      "outputs": [
        {
          "output_type": "stream",
          "name": "stdout",
          "text": [
            "Original array: array('i', [5, 4, 3, 2, 1])\n",
            "Reverse the order of the items:\n",
            "array('i', [1, 2, 3, 4, 5])\n"
          ]
        }
      ]
    },
    {
      "cell_type": "code",
      "source": [
        "from array import array\n",
        "num_array = array('i', [5, 4, 3, 2, 1])\n",
        "print(\"Length of the array is:\")\n",
        "print(len(num_array))"
      ],
      "metadata": {
        "colab": {
          "base_uri": "https://localhost:8080/"
        },
        "id": "31BK1kwqRb41",
        "outputId": "785d0bdf-fecd-4ade-aa8d-bcc4dce200dc"
      },
      "execution_count": 6,
      "outputs": [
        {
          "output_type": "stream",
          "name": "stdout",
          "text": [
            "Length of the array is:\n",
            "5\n"
          ]
        }
      ]
    }
  ]
}